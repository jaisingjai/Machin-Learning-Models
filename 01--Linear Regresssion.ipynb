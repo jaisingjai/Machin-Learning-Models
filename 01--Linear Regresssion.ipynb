{
 "cells": [
  {
   "cell_type": "markdown",
   "id": "f68de00c",
   "metadata": {},
   "source": [
    "# Linear Regression (Project)\n",
    "\n",
    "\n",
    "The dataset we will be working with later on in the next section:\n",
    "\n",
    "* Ames Iowa Data Set: http://jse.amstat.org/v19n3/decock.pdf"
   ]
  },
  {
   "cell_type": "markdown",
   "id": "7d7397d7",
   "metadata": {},
   "source": [
    "---------"
   ]
  },
  {
   "cell_type": "code",
   "execution_count": 1,
   "id": "1dae8423",
   "metadata": {},
   "outputs": [],
   "source": [
    "import numpy as np\n",
    "import pandas as pd\n",
    "import seaborn as sns\n",
    "import matplotlib.pyplot as plt\n",
    "\n",
    "from sklearn.model_selection import train_test_split\n",
    "from sklearn.model_selection import cross_validate\n",
    "from sklearn.model_selection import GridSearchCV\n",
    "from sklearn.preprocessing import StandardScaler\n",
    "from sklearn.linear_model import ElasticNet\n",
    "from sklearn.metrics import mean_squared_error,mean_absolute_error"
   ]
  },
  {
   "cell_type": "code",
   "execution_count": 2,
   "id": "b31b4b4e",
   "metadata": {},
   "outputs": [],
   "source": [
    "df = pd.read_csv('Ames_Housing_Data_dummy.csv')"
   ]
  },
  {
   "cell_type": "code",
   "execution_count": 3,
   "id": "de58465a",
   "metadata": {},
   "outputs": [
    {
     "data": {
      "text/html": [
       "<div>\n",
       "<style scoped>\n",
       "    .dataframe tbody tr th:only-of-type {\n",
       "        vertical-align: middle;\n",
       "    }\n",
       "\n",
       "    .dataframe tbody tr th {\n",
       "        vertical-align: top;\n",
       "    }\n",
       "\n",
       "    .dataframe thead th {\n",
       "        text-align: right;\n",
       "    }\n",
       "</style>\n",
       "<table border=\"1\" class=\"dataframe\">\n",
       "  <thead>\n",
       "    <tr style=\"text-align: right;\">\n",
       "      <th></th>\n",
       "      <th>PID</th>\n",
       "      <th>Lot Frontage</th>\n",
       "      <th>Lot Area</th>\n",
       "      <th>Overall Qual</th>\n",
       "      <th>Overall Cond</th>\n",
       "      <th>Year Built</th>\n",
       "      <th>Year Remod/Add</th>\n",
       "      <th>Mas Vnr Area</th>\n",
       "      <th>BsmtFin SF 1</th>\n",
       "      <th>BsmtFin SF 2</th>\n",
       "      <th>...</th>\n",
       "      <th>Sale Type_ConLw</th>\n",
       "      <th>Sale Type_New</th>\n",
       "      <th>Sale Type_Oth</th>\n",
       "      <th>Sale Type_VWD</th>\n",
       "      <th>Sale Type_WD</th>\n",
       "      <th>Sale Condition_AdjLand</th>\n",
       "      <th>Sale Condition_Alloca</th>\n",
       "      <th>Sale Condition_Family</th>\n",
       "      <th>Sale Condition_Normal</th>\n",
       "      <th>Sale Condition_Partial</th>\n",
       "    </tr>\n",
       "  </thead>\n",
       "  <tbody>\n",
       "    <tr>\n",
       "      <th>0</th>\n",
       "      <td>526301100</td>\n",
       "      <td>141.0</td>\n",
       "      <td>31770</td>\n",
       "      <td>6</td>\n",
       "      <td>5</td>\n",
       "      <td>1960</td>\n",
       "      <td>1960</td>\n",
       "      <td>112.0</td>\n",
       "      <td>639.0</td>\n",
       "      <td>0.0</td>\n",
       "      <td>...</td>\n",
       "      <td>0</td>\n",
       "      <td>0</td>\n",
       "      <td>0</td>\n",
       "      <td>0</td>\n",
       "      <td>1</td>\n",
       "      <td>0</td>\n",
       "      <td>0</td>\n",
       "      <td>0</td>\n",
       "      <td>1</td>\n",
       "      <td>0</td>\n",
       "    </tr>\n",
       "    <tr>\n",
       "      <th>1</th>\n",
       "      <td>526350040</td>\n",
       "      <td>80.0</td>\n",
       "      <td>11622</td>\n",
       "      <td>5</td>\n",
       "      <td>6</td>\n",
       "      <td>1961</td>\n",
       "      <td>1961</td>\n",
       "      <td>0.0</td>\n",
       "      <td>468.0</td>\n",
       "      <td>144.0</td>\n",
       "      <td>...</td>\n",
       "      <td>0</td>\n",
       "      <td>0</td>\n",
       "      <td>0</td>\n",
       "      <td>0</td>\n",
       "      <td>1</td>\n",
       "      <td>0</td>\n",
       "      <td>0</td>\n",
       "      <td>0</td>\n",
       "      <td>1</td>\n",
       "      <td>0</td>\n",
       "    </tr>\n",
       "    <tr>\n",
       "      <th>2</th>\n",
       "      <td>526351010</td>\n",
       "      <td>81.0</td>\n",
       "      <td>14267</td>\n",
       "      <td>6</td>\n",
       "      <td>6</td>\n",
       "      <td>1958</td>\n",
       "      <td>1958</td>\n",
       "      <td>108.0</td>\n",
       "      <td>923.0</td>\n",
       "      <td>0.0</td>\n",
       "      <td>...</td>\n",
       "      <td>0</td>\n",
       "      <td>0</td>\n",
       "      <td>0</td>\n",
       "      <td>0</td>\n",
       "      <td>1</td>\n",
       "      <td>0</td>\n",
       "      <td>0</td>\n",
       "      <td>0</td>\n",
       "      <td>1</td>\n",
       "      <td>0</td>\n",
       "    </tr>\n",
       "    <tr>\n",
       "      <th>3</th>\n",
       "      <td>526353030</td>\n",
       "      <td>93.0</td>\n",
       "      <td>11160</td>\n",
       "      <td>7</td>\n",
       "      <td>5</td>\n",
       "      <td>1968</td>\n",
       "      <td>1968</td>\n",
       "      <td>0.0</td>\n",
       "      <td>1065.0</td>\n",
       "      <td>0.0</td>\n",
       "      <td>...</td>\n",
       "      <td>0</td>\n",
       "      <td>0</td>\n",
       "      <td>0</td>\n",
       "      <td>0</td>\n",
       "      <td>1</td>\n",
       "      <td>0</td>\n",
       "      <td>0</td>\n",
       "      <td>0</td>\n",
       "      <td>1</td>\n",
       "      <td>0</td>\n",
       "    </tr>\n",
       "    <tr>\n",
       "      <th>4</th>\n",
       "      <td>527105010</td>\n",
       "      <td>74.0</td>\n",
       "      <td>13830</td>\n",
       "      <td>5</td>\n",
       "      <td>5</td>\n",
       "      <td>1997</td>\n",
       "      <td>1998</td>\n",
       "      <td>0.0</td>\n",
       "      <td>791.0</td>\n",
       "      <td>0.0</td>\n",
       "      <td>...</td>\n",
       "      <td>0</td>\n",
       "      <td>0</td>\n",
       "      <td>0</td>\n",
       "      <td>0</td>\n",
       "      <td>1</td>\n",
       "      <td>0</td>\n",
       "      <td>0</td>\n",
       "      <td>0</td>\n",
       "      <td>1</td>\n",
       "      <td>0</td>\n",
       "    </tr>\n",
       "  </tbody>\n",
       "</table>\n",
       "<p>5 rows × 274 columns</p>\n",
       "</div>"
      ],
      "text/plain": [
       "         PID  Lot Frontage  Lot Area  Overall Qual  Overall Cond  Year Built  \\\n",
       "0  526301100         141.0     31770             6             5        1960   \n",
       "1  526350040          80.0     11622             5             6        1961   \n",
       "2  526351010          81.0     14267             6             6        1958   \n",
       "3  526353030          93.0     11160             7             5        1968   \n",
       "4  527105010          74.0     13830             5             5        1997   \n",
       "\n",
       "   Year Remod/Add  Mas Vnr Area  BsmtFin SF 1  BsmtFin SF 2  ...  \\\n",
       "0            1960         112.0         639.0           0.0  ...   \n",
       "1            1961           0.0         468.0         144.0  ...   \n",
       "2            1958         108.0         923.0           0.0  ...   \n",
       "3            1968           0.0        1065.0           0.0  ...   \n",
       "4            1998           0.0         791.0           0.0  ...   \n",
       "\n",
       "   Sale Type_ConLw  Sale Type_New  Sale Type_Oth  Sale Type_VWD  \\\n",
       "0                0              0              0              0   \n",
       "1                0              0              0              0   \n",
       "2                0              0              0              0   \n",
       "3                0              0              0              0   \n",
       "4                0              0              0              0   \n",
       "\n",
       "   Sale Type_WD   Sale Condition_AdjLand  Sale Condition_Alloca  \\\n",
       "0              1                       0                      0   \n",
       "1              1                       0                      0   \n",
       "2              1                       0                      0   \n",
       "3              1                       0                      0   \n",
       "4              1                       0                      0   \n",
       "\n",
       "   Sale Condition_Family  Sale Condition_Normal  Sale Condition_Partial  \n",
       "0                      0                      1                       0  \n",
       "1                      0                      1                       0  \n",
       "2                      0                      1                       0  \n",
       "3                      0                      1                       0  \n",
       "4                      0                      1                       0  \n",
       "\n",
       "[5 rows x 274 columns]"
      ]
     },
     "execution_count": 3,
     "metadata": {},
     "output_type": "execute_result"
    }
   ],
   "source": [
    "df.head()"
   ]
  },
  {
   "cell_type": "code",
   "execution_count": 4,
   "id": "5aae65cd",
   "metadata": {},
   "outputs": [
    {
     "name": "stdout",
     "output_type": "stream",
     "text": [
      "<class 'pandas.core.frame.DataFrame'>\n",
      "RangeIndex: 2923 entries, 0 to 2922\n",
      "Columns: 274 entries, PID to Sale Condition_Partial\n",
      "dtypes: float64(11), int64(263)\n",
      "memory usage: 6.1 MB\n"
     ]
    }
   ],
   "source": [
    "df.info()"
   ]
  },
  {
   "cell_type": "code",
   "execution_count": 5,
   "id": "70b02ebf",
   "metadata": {},
   "outputs": [],
   "source": [
    "X = df.drop(columns=['PID','SalePrice'],axis=1)"
   ]
  },
  {
   "cell_type": "code",
   "execution_count": 6,
   "id": "0b6a41ac",
   "metadata": {},
   "outputs": [
    {
     "data": {
      "text/html": [
       "<div>\n",
       "<style scoped>\n",
       "    .dataframe tbody tr th:only-of-type {\n",
       "        vertical-align: middle;\n",
       "    }\n",
       "\n",
       "    .dataframe tbody tr th {\n",
       "        vertical-align: top;\n",
       "    }\n",
       "\n",
       "    .dataframe thead th {\n",
       "        text-align: right;\n",
       "    }\n",
       "</style>\n",
       "<table border=\"1\" class=\"dataframe\">\n",
       "  <thead>\n",
       "    <tr style=\"text-align: right;\">\n",
       "      <th></th>\n",
       "      <th>Lot Frontage</th>\n",
       "      <th>Lot Area</th>\n",
       "      <th>Overall Qual</th>\n",
       "      <th>Overall Cond</th>\n",
       "      <th>Year Built</th>\n",
       "      <th>Year Remod/Add</th>\n",
       "      <th>Mas Vnr Area</th>\n",
       "      <th>BsmtFin SF 1</th>\n",
       "      <th>BsmtFin SF 2</th>\n",
       "      <th>Bsmt Unf SF</th>\n",
       "      <th>...</th>\n",
       "      <th>Sale Type_ConLw</th>\n",
       "      <th>Sale Type_New</th>\n",
       "      <th>Sale Type_Oth</th>\n",
       "      <th>Sale Type_VWD</th>\n",
       "      <th>Sale Type_WD</th>\n",
       "      <th>Sale Condition_AdjLand</th>\n",
       "      <th>Sale Condition_Alloca</th>\n",
       "      <th>Sale Condition_Family</th>\n",
       "      <th>Sale Condition_Normal</th>\n",
       "      <th>Sale Condition_Partial</th>\n",
       "    </tr>\n",
       "  </thead>\n",
       "  <tbody>\n",
       "    <tr>\n",
       "      <th>0</th>\n",
       "      <td>141.000000</td>\n",
       "      <td>31770</td>\n",
       "      <td>6</td>\n",
       "      <td>5</td>\n",
       "      <td>1960</td>\n",
       "      <td>1960</td>\n",
       "      <td>112.0</td>\n",
       "      <td>639.0</td>\n",
       "      <td>0.0</td>\n",
       "      <td>441.0</td>\n",
       "      <td>...</td>\n",
       "      <td>0</td>\n",
       "      <td>0</td>\n",
       "      <td>0</td>\n",
       "      <td>0</td>\n",
       "      <td>1</td>\n",
       "      <td>0</td>\n",
       "      <td>0</td>\n",
       "      <td>0</td>\n",
       "      <td>1</td>\n",
       "      <td>0</td>\n",
       "    </tr>\n",
       "    <tr>\n",
       "      <th>1</th>\n",
       "      <td>80.000000</td>\n",
       "      <td>11622</td>\n",
       "      <td>5</td>\n",
       "      <td>6</td>\n",
       "      <td>1961</td>\n",
       "      <td>1961</td>\n",
       "      <td>0.0</td>\n",
       "      <td>468.0</td>\n",
       "      <td>144.0</td>\n",
       "      <td>270.0</td>\n",
       "      <td>...</td>\n",
       "      <td>0</td>\n",
       "      <td>0</td>\n",
       "      <td>0</td>\n",
       "      <td>0</td>\n",
       "      <td>1</td>\n",
       "      <td>0</td>\n",
       "      <td>0</td>\n",
       "      <td>0</td>\n",
       "      <td>1</td>\n",
       "      <td>0</td>\n",
       "    </tr>\n",
       "    <tr>\n",
       "      <th>2</th>\n",
       "      <td>81.000000</td>\n",
       "      <td>14267</td>\n",
       "      <td>6</td>\n",
       "      <td>6</td>\n",
       "      <td>1958</td>\n",
       "      <td>1958</td>\n",
       "      <td>108.0</td>\n",
       "      <td>923.0</td>\n",
       "      <td>0.0</td>\n",
       "      <td>406.0</td>\n",
       "      <td>...</td>\n",
       "      <td>0</td>\n",
       "      <td>0</td>\n",
       "      <td>0</td>\n",
       "      <td>0</td>\n",
       "      <td>1</td>\n",
       "      <td>0</td>\n",
       "      <td>0</td>\n",
       "      <td>0</td>\n",
       "      <td>1</td>\n",
       "      <td>0</td>\n",
       "    </tr>\n",
       "    <tr>\n",
       "      <th>3</th>\n",
       "      <td>93.000000</td>\n",
       "      <td>11160</td>\n",
       "      <td>7</td>\n",
       "      <td>5</td>\n",
       "      <td>1968</td>\n",
       "      <td>1968</td>\n",
       "      <td>0.0</td>\n",
       "      <td>1065.0</td>\n",
       "      <td>0.0</td>\n",
       "      <td>1045.0</td>\n",
       "      <td>...</td>\n",
       "      <td>0</td>\n",
       "      <td>0</td>\n",
       "      <td>0</td>\n",
       "      <td>0</td>\n",
       "      <td>1</td>\n",
       "      <td>0</td>\n",
       "      <td>0</td>\n",
       "      <td>0</td>\n",
       "      <td>1</td>\n",
       "      <td>0</td>\n",
       "    </tr>\n",
       "    <tr>\n",
       "      <th>4</th>\n",
       "      <td>74.000000</td>\n",
       "      <td>13830</td>\n",
       "      <td>5</td>\n",
       "      <td>5</td>\n",
       "      <td>1997</td>\n",
       "      <td>1998</td>\n",
       "      <td>0.0</td>\n",
       "      <td>791.0</td>\n",
       "      <td>0.0</td>\n",
       "      <td>137.0</td>\n",
       "      <td>...</td>\n",
       "      <td>0</td>\n",
       "      <td>0</td>\n",
       "      <td>0</td>\n",
       "      <td>0</td>\n",
       "      <td>1</td>\n",
       "      <td>0</td>\n",
       "      <td>0</td>\n",
       "      <td>0</td>\n",
       "      <td>1</td>\n",
       "      <td>0</td>\n",
       "    </tr>\n",
       "    <tr>\n",
       "      <th>...</th>\n",
       "      <td>...</td>\n",
       "      <td>...</td>\n",
       "      <td>...</td>\n",
       "      <td>...</td>\n",
       "      <td>...</td>\n",
       "      <td>...</td>\n",
       "      <td>...</td>\n",
       "      <td>...</td>\n",
       "      <td>...</td>\n",
       "      <td>...</td>\n",
       "      <td>...</td>\n",
       "      <td>...</td>\n",
       "      <td>...</td>\n",
       "      <td>...</td>\n",
       "      <td>...</td>\n",
       "      <td>...</td>\n",
       "      <td>...</td>\n",
       "      <td>...</td>\n",
       "      <td>...</td>\n",
       "      <td>...</td>\n",
       "      <td>...</td>\n",
       "    </tr>\n",
       "    <tr>\n",
       "      <th>2918</th>\n",
       "      <td>37.000000</td>\n",
       "      <td>7937</td>\n",
       "      <td>6</td>\n",
       "      <td>6</td>\n",
       "      <td>1984</td>\n",
       "      <td>1984</td>\n",
       "      <td>0.0</td>\n",
       "      <td>819.0</td>\n",
       "      <td>0.0</td>\n",
       "      <td>184.0</td>\n",
       "      <td>...</td>\n",
       "      <td>0</td>\n",
       "      <td>0</td>\n",
       "      <td>0</td>\n",
       "      <td>0</td>\n",
       "      <td>1</td>\n",
       "      <td>0</td>\n",
       "      <td>0</td>\n",
       "      <td>0</td>\n",
       "      <td>1</td>\n",
       "      <td>0</td>\n",
       "    </tr>\n",
       "    <tr>\n",
       "      <th>2919</th>\n",
       "      <td>75.144444</td>\n",
       "      <td>8885</td>\n",
       "      <td>5</td>\n",
       "      <td>5</td>\n",
       "      <td>1983</td>\n",
       "      <td>1983</td>\n",
       "      <td>0.0</td>\n",
       "      <td>301.0</td>\n",
       "      <td>324.0</td>\n",
       "      <td>239.0</td>\n",
       "      <td>...</td>\n",
       "      <td>0</td>\n",
       "      <td>0</td>\n",
       "      <td>0</td>\n",
       "      <td>0</td>\n",
       "      <td>1</td>\n",
       "      <td>0</td>\n",
       "      <td>0</td>\n",
       "      <td>0</td>\n",
       "      <td>1</td>\n",
       "      <td>0</td>\n",
       "    </tr>\n",
       "    <tr>\n",
       "      <th>2920</th>\n",
       "      <td>62.000000</td>\n",
       "      <td>10441</td>\n",
       "      <td>5</td>\n",
       "      <td>5</td>\n",
       "      <td>1992</td>\n",
       "      <td>1992</td>\n",
       "      <td>0.0</td>\n",
       "      <td>337.0</td>\n",
       "      <td>0.0</td>\n",
       "      <td>575.0</td>\n",
       "      <td>...</td>\n",
       "      <td>0</td>\n",
       "      <td>0</td>\n",
       "      <td>0</td>\n",
       "      <td>0</td>\n",
       "      <td>1</td>\n",
       "      <td>0</td>\n",
       "      <td>0</td>\n",
       "      <td>0</td>\n",
       "      <td>1</td>\n",
       "      <td>0</td>\n",
       "    </tr>\n",
       "    <tr>\n",
       "      <th>2921</th>\n",
       "      <td>77.000000</td>\n",
       "      <td>10010</td>\n",
       "      <td>5</td>\n",
       "      <td>5</td>\n",
       "      <td>1974</td>\n",
       "      <td>1975</td>\n",
       "      <td>0.0</td>\n",
       "      <td>1071.0</td>\n",
       "      <td>123.0</td>\n",
       "      <td>195.0</td>\n",
       "      <td>...</td>\n",
       "      <td>0</td>\n",
       "      <td>0</td>\n",
       "      <td>0</td>\n",
       "      <td>0</td>\n",
       "      <td>1</td>\n",
       "      <td>0</td>\n",
       "      <td>0</td>\n",
       "      <td>0</td>\n",
       "      <td>1</td>\n",
       "      <td>0</td>\n",
       "    </tr>\n",
       "    <tr>\n",
       "      <th>2922</th>\n",
       "      <td>74.000000</td>\n",
       "      <td>9627</td>\n",
       "      <td>7</td>\n",
       "      <td>5</td>\n",
       "      <td>1993</td>\n",
       "      <td>1994</td>\n",
       "      <td>94.0</td>\n",
       "      <td>758.0</td>\n",
       "      <td>0.0</td>\n",
       "      <td>238.0</td>\n",
       "      <td>...</td>\n",
       "      <td>0</td>\n",
       "      <td>0</td>\n",
       "      <td>0</td>\n",
       "      <td>0</td>\n",
       "      <td>1</td>\n",
       "      <td>0</td>\n",
       "      <td>0</td>\n",
       "      <td>0</td>\n",
       "      <td>1</td>\n",
       "      <td>0</td>\n",
       "    </tr>\n",
       "  </tbody>\n",
       "</table>\n",
       "<p>2923 rows × 272 columns</p>\n",
       "</div>"
      ],
      "text/plain": [
       "      Lot Frontage  Lot Area  Overall Qual  Overall Cond  Year Built  \\\n",
       "0       141.000000     31770             6             5        1960   \n",
       "1        80.000000     11622             5             6        1961   \n",
       "2        81.000000     14267             6             6        1958   \n",
       "3        93.000000     11160             7             5        1968   \n",
       "4        74.000000     13830             5             5        1997   \n",
       "...            ...       ...           ...           ...         ...   \n",
       "2918     37.000000      7937             6             6        1984   \n",
       "2919     75.144444      8885             5             5        1983   \n",
       "2920     62.000000     10441             5             5        1992   \n",
       "2921     77.000000     10010             5             5        1974   \n",
       "2922     74.000000      9627             7             5        1993   \n",
       "\n",
       "      Year Remod/Add  Mas Vnr Area  BsmtFin SF 1  BsmtFin SF 2  Bsmt Unf SF  \\\n",
       "0               1960         112.0         639.0           0.0        441.0   \n",
       "1               1961           0.0         468.0         144.0        270.0   \n",
       "2               1958         108.0         923.0           0.0        406.0   \n",
       "3               1968           0.0        1065.0           0.0       1045.0   \n",
       "4               1998           0.0         791.0           0.0        137.0   \n",
       "...              ...           ...           ...           ...          ...   \n",
       "2918            1984           0.0         819.0           0.0        184.0   \n",
       "2919            1983           0.0         301.0         324.0        239.0   \n",
       "2920            1992           0.0         337.0           0.0        575.0   \n",
       "2921            1975           0.0        1071.0         123.0        195.0   \n",
       "2922            1994          94.0         758.0           0.0        238.0   \n",
       "\n",
       "      ...  Sale Type_ConLw  Sale Type_New  Sale Type_Oth  Sale Type_VWD  \\\n",
       "0     ...                0              0              0              0   \n",
       "1     ...                0              0              0              0   \n",
       "2     ...                0              0              0              0   \n",
       "3     ...                0              0              0              0   \n",
       "4     ...                0              0              0              0   \n",
       "...   ...              ...            ...            ...            ...   \n",
       "2918  ...                0              0              0              0   \n",
       "2919  ...                0              0              0              0   \n",
       "2920  ...                0              0              0              0   \n",
       "2921  ...                0              0              0              0   \n",
       "2922  ...                0              0              0              0   \n",
       "\n",
       "      Sale Type_WD   Sale Condition_AdjLand  Sale Condition_Alloca  \\\n",
       "0                 1                       0                      0   \n",
       "1                 1                       0                      0   \n",
       "2                 1                       0                      0   \n",
       "3                 1                       0                      0   \n",
       "4                 1                       0                      0   \n",
       "...             ...                     ...                    ...   \n",
       "2918              1                       0                      0   \n",
       "2919              1                       0                      0   \n",
       "2920              1                       0                      0   \n",
       "2921              1                       0                      0   \n",
       "2922              1                       0                      0   \n",
       "\n",
       "      Sale Condition_Family  Sale Condition_Normal  Sale Condition_Partial  \n",
       "0                         0                      1                       0  \n",
       "1                         0                      1                       0  \n",
       "2                         0                      1                       0  \n",
       "3                         0                      1                       0  \n",
       "4                         0                      1                       0  \n",
       "...                     ...                    ...                     ...  \n",
       "2918                      0                      1                       0  \n",
       "2919                      0                      1                       0  \n",
       "2920                      0                      1                       0  \n",
       "2921                      0                      1                       0  \n",
       "2922                      0                      1                       0  \n",
       "\n",
       "[2923 rows x 272 columns]"
      ]
     },
     "execution_count": 6,
     "metadata": {},
     "output_type": "execute_result"
    }
   ],
   "source": [
    "X"
   ]
  },
  {
   "cell_type": "code",
   "execution_count": 7,
   "id": "67ced531",
   "metadata": {},
   "outputs": [],
   "source": [
    "y = df['SalePrice']"
   ]
  },
  {
   "cell_type": "markdown",
   "id": "3f029534",
   "metadata": {},
   "source": [
    "#### Use scikit-learn to split up X and y into a training set and test set"
   ]
  },
  {
   "cell_type": "code",
   "execution_count": 8,
   "id": "6f7688c0",
   "metadata": {},
   "outputs": [],
   "source": [
    "X_train,X_test,y_train,y_test = train_test_split(X,y,test_size=0.10,random_state=101)"
   ]
  },
  {
   "cell_type": "code",
   "execution_count": 9,
   "id": "8298cc01",
   "metadata": {},
   "outputs": [
    {
     "data": {
      "text/plain": [
       "(2630, 293)"
      ]
     },
     "execution_count": 9,
     "metadata": {},
     "output_type": "execute_result"
    }
   ],
   "source": [
    "len(X_train),len(X_test)"
   ]
  },
  {
   "cell_type": "markdown",
   "id": "06587c7b",
   "metadata": {},
   "source": [
    "#### The dataset features has a variety of scales and units. \n",
    "#### For optimal regression performance, scale the X features."
   ]
  },
  {
   "cell_type": "code",
   "execution_count": 10,
   "id": "f5c884ef",
   "metadata": {},
   "outputs": [],
   "source": [
    "scaler = StandardScaler()"
   ]
  },
  {
   "cell_type": "code",
   "execution_count": 11,
   "id": "d452061a",
   "metadata": {},
   "outputs": [
    {
     "data": {
      "text/plain": [
       "StandardScaler()"
      ]
     },
     "execution_count": 11,
     "metadata": {},
     "output_type": "execute_result"
    }
   ],
   "source": [
    "scaler.fit(X_train)"
   ]
  },
  {
   "cell_type": "code",
   "execution_count": 12,
   "id": "ac500919",
   "metadata": {},
   "outputs": [],
   "source": [
    "X_train = scaler.transform(X_train)"
   ]
  },
  {
   "cell_type": "code",
   "execution_count": 13,
   "id": "50295a96",
   "metadata": {},
   "outputs": [],
   "source": [
    "X_test = scaler.transform(X_test)"
   ]
  },
  {
   "cell_type": "markdown",
   "id": "008f87a3",
   "metadata": {},
   "source": [
    "#### We will use an Elastic Net model. Create an instance of default ElasticNet model with scikit-learn**"
   ]
  },
  {
   "cell_type": "code",
   "execution_count": 14,
   "id": "ebfba519",
   "metadata": {},
   "outputs": [],
   "source": [
    "model = ElasticNet(max_iter=10000000)"
   ]
  },
  {
   "cell_type": "markdown",
   "id": "63d513b1",
   "metadata": {},
   "source": [
    "#### The Elastic Net model has two main parameters, alpha and the L1 ratio.\n",
    "#### Create a dictionary parameter grid of values for the ElasticNet. Feel free to play around with these values, keep in mind, you may not match up exactly with the solution choices**"
   ]
  },
  {
   "cell_type": "code",
   "execution_count": 15,
   "id": "6943a191",
   "metadata": {},
   "outputs": [],
   "source": [
    "param_grid = {'alpha':[100,150,200,300],\n",
    "       \"l1_ratio\":[0.7,0.9,1]}"
   ]
  },
  {
   "cell_type": "markdown",
   "id": "5e2d396f",
   "metadata": {},
   "source": [
    "#### Using scikit-learn create a GridSearchCV object and run a grid search for the best parameters for your model based on your scaled training data."
   ]
  },
  {
   "cell_type": "code",
   "execution_count": 16,
   "id": "7999843b",
   "metadata": {},
   "outputs": [],
   "source": [
    "grid_model = GridSearchCV(model,param_grid=param_grid,\n",
    "                          cv=10,scoring='neg_mean_squared_error')"
   ]
  },
  {
   "cell_type": "code",
   "execution_count": 17,
   "id": "49db142e",
   "metadata": {},
   "outputs": [
    {
     "data": {
      "text/plain": [
       "GridSearchCV(cv=10, estimator=ElasticNet(max_iter=10000000),\n",
       "             param_grid={'alpha': [100, 150, 200, 300],\n",
       "                         'l1_ratio': [0.7, 0.9, 1]},\n",
       "             scoring='neg_mean_squared_error')"
      ]
     },
     "execution_count": 17,
     "metadata": {},
     "output_type": "execute_result"
    }
   ],
   "source": [
    "grid_model.fit(X_train,y_train)"
   ]
  },
  {
   "cell_type": "markdown",
   "id": "53d3cd54",
   "metadata": {},
   "source": [
    "#### Display the best combination of parameters for your model"
   ]
  },
  {
   "cell_type": "code",
   "execution_count": 18,
   "id": "a6613eaf",
   "metadata": {},
   "outputs": [
    {
     "data": {
      "text/plain": [
       "ElasticNet(alpha=100, l1_ratio=1, max_iter=10000000)"
      ]
     },
     "execution_count": 18,
     "metadata": {},
     "output_type": "execute_result"
    }
   ],
   "source": [
    "grid_model.best_estimator_"
   ]
  },
  {
   "cell_type": "markdown",
   "id": "ce48388d",
   "metadata": {},
   "source": [
    "#### Evaluate your model's performance on the unseen 10% scaled test set. \n",
    "#### In the solutions notebook we achieved an MAE of $\\$$14149 and a RMSE of $\\$$20532"
   ]
  },
  {
   "cell_type": "code",
   "execution_count": 19,
   "id": "2d78e001",
   "metadata": {},
   "outputs": [],
   "source": [
    "y_predict = grid_model.predict(X_test)"
   ]
  },
  {
   "cell_type": "code",
   "execution_count": 20,
   "id": "42b55bf8",
   "metadata": {},
   "outputs": [
    {
     "data": {
      "text/plain": [
       "24183.974799029427"
      ]
     },
     "execution_count": 20,
     "metadata": {},
     "output_type": "execute_result"
    }
   ],
   "source": [
    "np.sqrt(mean_squared_error(y_predict,y_test))"
   ]
  },
  {
   "cell_type": "code",
   "execution_count": 21,
   "id": "7c51c435",
   "metadata": {},
   "outputs": [
    {
     "data": {
      "text/plain": [
       "15362.303579886904"
      ]
     },
     "execution_count": 21,
     "metadata": {},
     "output_type": "execute_result"
    }
   ],
   "source": [
    "mean_absolute_error(y_predict,y_test)"
   ]
  },
  {
   "cell_type": "markdown",
   "id": "8a609c0f",
   "metadata": {},
   "source": [
    "#### Mean Price"
   ]
  },
  {
   "cell_type": "code",
   "execution_count": 22,
   "id": "9e581a1a",
   "metadata": {},
   "outputs": [
    {
     "data": {
      "text/plain": [
       "180814.82962709546"
      ]
     },
     "execution_count": 22,
     "metadata": {},
     "output_type": "execute_result"
    }
   ],
   "source": [
    "df['SalePrice'].mean()"
   ]
  },
  {
   "cell_type": "markdown",
   "id": "d50a4fee",
   "metadata": {},
   "source": [
    "#### Percentage Error"
   ]
  },
  {
   "cell_type": "code",
   "execution_count": 23,
   "id": "9e9bbd25",
   "metadata": {},
   "outputs": [
    {
     "data": {
      "text/plain": [
       "13.374517459931202"
      ]
     },
     "execution_count": 23,
     "metadata": {},
     "output_type": "execute_result"
    }
   ],
   "source": [
    "24183/180814*100"
   ]
  },
  {
   "cell_type": "code",
   "execution_count": 24,
   "id": "4083886d",
   "metadata": {},
   "outputs": [
    {
     "data": {
      "text/plain": [
       "8.496023538000376"
      ]
     },
     "execution_count": 24,
     "metadata": {},
     "output_type": "execute_result"
    }
   ],
   "source": [
    "15362/180814*100"
   ]
  },
  {
   "cell_type": "markdown",
   "id": "f6c096a6",
   "metadata": {},
   "source": [
    "### Aproximately 14% off from data "
   ]
  },
  {
   "cell_type": "code",
   "execution_count": 25,
   "id": "12d911cf",
   "metadata": {},
   "outputs": [],
   "source": [
    "from sklearn.linear_model import LassoCV"
   ]
  },
  {
   "cell_type": "code",
   "execution_count": 26,
   "id": "d06edccb",
   "metadata": {},
   "outputs": [],
   "source": [
    "model = LassoCV(eps=0.001,n_alphas=100,max_iter=1000,cv=20)"
   ]
  },
  {
   "cell_type": "code",
   "execution_count": 27,
   "id": "1456e0a2",
   "metadata": {},
   "outputs": [
    {
     "data": {
      "text/plain": [
       "LassoCV(cv=20)"
      ]
     },
     "execution_count": 27,
     "metadata": {},
     "output_type": "execute_result"
    }
   ],
   "source": [
    "model.fit(X_train,y_train)"
   ]
  },
  {
   "cell_type": "code",
   "execution_count": 28,
   "id": "cad242c5",
   "metadata": {},
   "outputs": [
    {
     "data": {
      "text/plain": [
       "105.29249079550004"
      ]
     },
     "execution_count": 28,
     "metadata": {},
     "output_type": "execute_result"
    }
   ],
   "source": [
    "model.alpha_"
   ]
  },
  {
   "cell_type": "code",
   "execution_count": 29,
   "id": "2961bb29",
   "metadata": {},
   "outputs": [],
   "source": [
    "test_prediction = model.predict(X_test)"
   ]
  },
  {
   "cell_type": "code",
   "execution_count": 30,
   "id": "431e1fad",
   "metadata": {},
   "outputs": [
    {
     "data": {
      "text/plain": [
       "24172.711264337126"
      ]
     },
     "execution_count": 30,
     "metadata": {},
     "output_type": "execute_result"
    }
   ],
   "source": [
    "np.sqrt(mean_squared_error(y_test,test_prediction))"
   ]
  },
  {
   "cell_type": "markdown",
   "id": "36cb89c4",
   "metadata": {},
   "source": [
    "### Same as above 14%"
   ]
  },
  {
   "cell_type": "markdown",
   "id": "00f99e80",
   "metadata": {},
   "source": [
    "--------------"
   ]
  },
  {
   "cell_type": "markdown",
   "id": "7f4531a9",
   "metadata": {},
   "source": [
    "## Cross validate error"
   ]
  },
  {
   "cell_type": "code",
   "execution_count": 31,
   "id": "a64f23f3",
   "metadata": {},
   "outputs": [],
   "source": [
    "cross_val_model = ElasticNet(alpha=105.29,l1_ratio=1)"
   ]
  },
  {
   "cell_type": "code",
   "execution_count": 32,
   "id": "83d6c520",
   "metadata": {},
   "outputs": [],
   "source": [
    "scores = cross_validate(cross_val_model ,X_train,y_train,\n",
    "                        scoring=['neg_mean_absolute_error',\n",
    "                                 'neg_mean_squared_error','max_error'],cv=200)"
   ]
  },
  {
   "cell_type": "code",
   "execution_count": 33,
   "id": "06861ef7",
   "metadata": {},
   "outputs": [
    {
     "data": {
      "text/plain": [
       "fit_time                        3.117235e-01\n",
       "score_time                      1.104645e-03\n",
       "test_neg_mean_absolute_error    1.471211e+04\n",
       "test_neg_mean_squared_error     4.795307e+08\n",
       "test_max_error                  5.126520e+04\n",
       "dtype: float64"
      ]
     },
     "execution_count": 33,
     "metadata": {},
     "output_type": "execute_result"
    }
   ],
   "source": [
    "abs(pd.DataFrame(scores).mean())"
   ]
  },
  {
   "cell_type": "code",
   "execution_count": 34,
   "id": "ca40a1a0",
   "metadata": {},
   "outputs": [
    {
     "data": {
      "text/plain": [
       "21898.189422872387"
      ]
     },
     "execution_count": 34,
     "metadata": {},
     "output_type": "execute_result"
    }
   ],
   "source": [
    "np.sqrt( 4.795307e+08)"
   ]
  },
  {
   "cell_type": "code",
   "execution_count": 35,
   "id": "7151cde0",
   "metadata": {},
   "outputs": [
    {
     "data": {
      "text/plain": [
       "12.110732958725396"
      ]
     },
     "execution_count": 35,
     "metadata": {},
     "output_type": "execute_result"
    }
   ],
   "source": [
    "(21898/180814.82)*100"
   ]
  },
  {
   "cell_type": "markdown",
   "id": "daa80bfd",
   "metadata": {},
   "source": [
    "### Hence we can see that Value is much more below the 14% rang hence it is aprox 10 to 14% "
   ]
  },
  {
   "cell_type": "markdown",
   "id": "0e5fbcbf",
   "metadata": {},
   "source": [
    "## Great work!\n",
    "\n",
    "----"
   ]
  }
 ],
 "metadata": {
  "kernelspec": {
   "display_name": "Python 3 (ipykernel)",
   "language": "python",
   "name": "python3"
  },
  "language_info": {
   "codemirror_mode": {
    "name": "ipython",
    "version": 3
   },
   "file_extension": ".py",
   "mimetype": "text/x-python",
   "name": "python",
   "nbconvert_exporter": "python",
   "pygments_lexer": "ipython3",
   "version": "3.9.15"
  }
 },
 "nbformat": 4,
 "nbformat_minor": 5
}
